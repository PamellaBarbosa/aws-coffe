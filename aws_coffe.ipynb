{
  "nbformat": 4,
  "nbformat_minor": 0,
  "metadata": {
    "colab": {
      "provenance": [],
      "collapsed_sections": [],
      "authorship_tag": "ABX9TyM9iJ810FrvWnydfq+vlU4b",
      "include_colab_link": true
    },
    "kernelspec": {
      "name": "python3",
      "display_name": "Python 3"
    },
    "language_info": {
      "name": "python"
    }
  },
  "cells": [
    {
      "cell_type": "markdown",
      "metadata": {
        "id": "view-in-github",
        "colab_type": "text"
      },
      "source": [
        "<a href=\"https://colab.research.google.com/github/PamellaBarbosa/aws-coffe/blob/main/aws_coffe.ipynb\" target=\"_parent\"><img src=\"https://colab.research.google.com/assets/colab-badge.svg\" alt=\"Open In Colab\"/></a>"
      ]
    },
    {
      "cell_type": "code",
      "execution_count": null,
      "metadata": {
        "colab": {
          "base_uri": "https://localhost:8080/"
        },
        "id": "nzWeOwIO5Z3P",
        "outputId": "6cc764be-a9e0-4436-8b9a-7124a9830493"
      },
      "outputs": [
        {
          "output_type": "stream",
          "name": "stdout",
          "text": [
            "Looking in indexes: https://pypi.org/simple, https://us-python.pkg.dev/colab-wheels/public/simple/\n",
            "Requirement already satisfied: pandas in /usr/local/lib/python3.7/dist-packages (1.3.5)\n",
            "Requirement already satisfied: pytz>=2017.3 in /usr/local/lib/python3.7/dist-packages (from pandas) (2022.5)\n",
            "Requirement already satisfied: numpy>=1.17.3 in /usr/local/lib/python3.7/dist-packages (from pandas) (1.21.6)\n",
            "Requirement already satisfied: python-dateutil>=2.7.3 in /usr/local/lib/python3.7/dist-packages (from pandas) (2.8.2)\n",
            "Requirement already satisfied: six>=1.5 in /usr/local/lib/python3.7/dist-packages (from python-dateutil>=2.7.3->pandas) (1.15.0)\n"
          ]
        }
      ],
      "source": [
        "!pip install pandas"
      ]
    },
    {
      "cell_type": "code",
      "source": [
        "import sys\n",
        "import scipy\n",
        "import numpy\n",
        "import matplotlib\n",
        "import pandas as pd\n",
        "import sklearn"
      ],
      "metadata": {
        "id": "_RhxbeCR6WsG"
      },
      "execution_count": null,
      "outputs": []
    },
    {
      "cell_type": "code",
      "source": [
        "from pandas.plotting import scatter_matrix\n",
        "import matplotlib.pyplot as plt\n",
        "from sklearn import model_selection\n",
        "from sklearn.metrics import classification_report\n",
        "from sklearn.metrics import confusion_matrix\n",
        "from sklearn.metrics import accuracy_score\n",
        "from sklearn.linear_model import LogisticRegression\n",
        "from sklearn.tree import DecisionTreeClassifier\n",
        "from sklearn.neighbors import KNeighborsClassifier\n",
        "from sklearn.discriminant_analysis import LinearDiscriminantAnalysis\n",
        "from sklearn.naive_bayes import GaussianNB\n",
        "from sklearn.svm import SVC"
      ],
      "metadata": {
        "id": "iDLMPKaf6aNl"
      },
      "execution_count": null,
      "outputs": []
    },
    {
      "cell_type": "code",
      "source": [
        "url = 'https://aws-coffe.s3.sa-east-1.amazonaws.com/coffee.csv'"
      ],
      "metadata": {
        "id": "-Ukzyyal6bEf"
      },
      "execution_count": null,
      "outputs": []
    },
    {
      "cell_type": "code",
      "source": [
        "from inspect import Attribute\n",
        "Attribute = [\"Date\", \"Open\", \"High\", \"Low\", \"Close\", \"Volume\", \"Currency\"]\n",
        "dataset = Past = pd.read_csv(url, encoding = 'cp1252')\n",
        "colunas = [\"High\", \"Volume\"]\n",
        "dataset.columns = Attribute"
      ],
      "metadata": {
        "id": "RlESB1Uq6kD2"
      },
      "execution_count": null,
      "outputs": []
    },
    {
      "cell_type": "code",
      "source": [
        "print(dataset) #base"
      ],
      "metadata": {
        "colab": {
          "base_uri": "https://localhost:8080/"
        },
        "id": "r1oWs8N87Na_",
        "outputId": "25e2d346-2d50-4406-c16b-7b0a48589586"
      },
      "execution_count": null,
      "outputs": [
        {
          "output_type": "stream",
          "name": "stdout",
          "text": [
            "            Date    Open    High     Low   Close  Volume Currency\n",
            "0     2000-01-03  122.25  124.00  116.10  116.50    6640      USD\n",
            "1     2000-01-04  116.25  120.50  115.75  116.25    5492      USD\n",
            "2     2000-01-05  115.00  121.00  115.00  118.60    6165      USD\n",
            "3     2000-01-06  119.00  121.40  116.50  116.85    5094      USD\n",
            "4     2000-01-07  117.25  117.75  113.80  114.15    6855      USD\n",
            "...          ...     ...     ...     ...     ...     ...      ...\n",
            "5741  2022-08-29  240.55  240.55  240.55  240.50       1      USD\n",
            "5742  2022-08-30  238.75  241.75  238.75  239.15      14      USD\n",
            "5743  2022-08-31  240.75  240.75  239.65  239.10      12      USD\n",
            "5744  2022-09-01  238.55  238.55  236.60  236.35       6      USD\n",
            "5745  2022-09-02  232.50  234.05  228.28  228.42       0      USD\n",
            "\n",
            "[5746 rows x 7 columns]\n"
          ]
        }
      ]
    },
    {
      "cell_type": "code",
      "source": [
        "print(dataset.shape) #linhas e colunas"
      ],
      "metadata": {
        "colab": {
          "base_uri": "https://localhost:8080/"
        },
        "id": "SFFe1pIk7RDV",
        "outputId": "0f3ace0c-1024-409e-bfcb-737507b39cad"
      },
      "execution_count": null,
      "outputs": [
        {
          "output_type": "stream",
          "name": "stdout",
          "text": [
            "(5746, 7)\n"
          ]
        }
      ]
    },
    {
      "cell_type": "code",
      "source": [
        "print(dataset.head()) #primeiras linhas "
      ],
      "metadata": {
        "colab": {
          "base_uri": "https://localhost:8080/"
        },
        "id": "5GzfKc3S7Tf1",
        "outputId": "3a19740c-5509-4af9-d255-84de3861e343"
      },
      "execution_count": null,
      "outputs": [
        {
          "output_type": "stream",
          "name": "stdout",
          "text": [
            "         Date    Open    High     Low   Close  Volume Currency\n",
            "0  2000-01-03  122.25  124.00  116.10  116.50    6640      USD\n",
            "1  2000-01-04  116.25  120.50  115.75  116.25    5492      USD\n",
            "2  2000-01-05  115.00  121.00  115.00  118.60    6165      USD\n",
            "3  2000-01-06  119.00  121.40  116.50  116.85    5094      USD\n",
            "4  2000-01-07  117.25  117.75  113.80  114.15    6855      USD\n"
          ]
        }
      ]
    },
    {
      "cell_type": "code",
      "source": [
        "print(dataset.tail()) #últimas linhas"
      ],
      "metadata": {
        "colab": {
          "base_uri": "https://localhost:8080/"
        },
        "id": "dh4Yi8NA7Wft",
        "outputId": "66ba1cc3-ff1c-4903-912c-1d7b89d2dcff"
      },
      "execution_count": null,
      "outputs": [
        {
          "output_type": "stream",
          "name": "stdout",
          "text": [
            "            Date    Open    High     Low   Close  Volume Currency\n",
            "5741  2022-08-29  240.55  240.55  240.55  240.50       1      USD\n",
            "5742  2022-08-30  238.75  241.75  238.75  239.15      14      USD\n",
            "5743  2022-08-31  240.75  240.75  239.65  239.10      12      USD\n",
            "5744  2022-09-01  238.55  238.55  236.60  236.35       6      USD\n",
            "5745  2022-09-02  232.50  234.05  228.28  228.42       0      USD\n"
          ]
        }
      ]
    },
    {
      "cell_type": "code",
      "source": [
        "print(dataset.describe()) #descrição"
      ],
      "metadata": {
        "colab": {
          "base_uri": "https://localhost:8080/"
        },
        "id": "QbB_PZ6G7Zdt",
        "outputId": "ed0cbb04-133d-46dd-9cb6-fd0714afab3c"
      },
      "execution_count": null,
      "outputs": [
        {
          "output_type": "stream",
          "name": "stdout",
          "text": [
            "              Open         High          Low        Close        Volume\n",
            "count  5746.000000  5746.000000  5746.000000  5746.000000   5746.000000\n",
            "mean    127.267635   128.847034   125.784669   127.215567   8807.178907\n",
            "std      50.569425    51.164948    49.851487    50.506519   9612.789034\n",
            "min      41.500000    42.000000    41.500000    41.500000      0.000000\n",
            "25%      98.800000   100.112500    97.862500    98.650000     61.000000\n",
            "50%     120.400000   121.600000   118.950000   120.250000   7008.000000\n",
            "75%     144.800000   146.000000   143.000000   144.337500  14497.750000\n",
            "max     305.300000   306.250000   304.000000   304.900000  62045.000000\n"
          ]
        }
      ]
    },
    {
      "cell_type": "code",
      "source": [
        "print(dataset.groupby('Open').size())"
      ],
      "metadata": {
        "colab": {
          "base_uri": "https://localhost:8080/"
        },
        "id": "UxKMJJa67c7-",
        "outputId": "e9723a9d-75a0-4619-fcca-c5c5426ad073"
      },
      "execution_count": null,
      "outputs": [
        {
          "output_type": "stream",
          "name": "stdout",
          "text": [
            "Open\n",
            "41.50     1\n",
            "41.90     1\n",
            "42.00     3\n",
            "42.25     1\n",
            "42.70     1\n",
            "         ..\n",
            "295.90    1\n",
            "298.15    1\n",
            "298.35    1\n",
            "305.00    1\n",
            "305.30    1\n",
            "Length: 2485, dtype: int64\n"
          ]
        }
      ]
    },
    {
      "cell_type": "code",
      "source": [
        "dataset.hist()\n",
        "plt.show()"
      ],
      "metadata": {
        "colab": {
          "base_uri": "https://localhost:8080/",
          "height": 281
        },
        "id": "HftHIlxn7fh8",
        "outputId": "cc1d7555-ae32-4452-89cf-82685ee582f7"
      },
      "execution_count": null,
      "outputs": [
        {
          "output_type": "display_data",
          "data": {
            "text/plain": [
              "<Figure size 432x288 with 6 Axes>"
            ],
            "image/png": "[encoded data removed]"
          },
          "metadata": {
            "needs_background": "light"
          }
        }
      ]
    },
    {
      "cell_type": "code",
      "source": [
        "scatter_matrix(dataset)\n",
        "plt.show()"
      ],
      "metadata": {
        "colab": {
          "base_uri": "https://localhost:8080/",
          "height": 296
        },
        "id": "u6YuvVAk7jnf",
        "outputId": "ac79bda6-1786-4a6c-98e7-60b361c79af7"
      },
      "execution_count": null,
      "outputs": [
        {
          "output_type": "display_data",
          "data": {
            "text/plain": [
              "<Figure size 432x288 with 25 Axes>"
            ],
            "image/png": "[encoded data removed]"
          },
          "metadata": {
            "needs_background": "light"
          }
        }
      ]
    },
    {
      "cell_type": "code",
      "source": [
        "print(type(dataset)) #tipo"
      ],
      "metadata": {
        "colab": {
          "base_uri": "https://localhost:8080/"
        },
        "id": "_BTCsmnx7lpF",
        "outputId": "c6ee4de8-225e-4a46-a2e4-b6cbcf6612f9"
      },
      "execution_count": null,
      "outputs": [
        {
          "output_type": "stream",
          "name": "stdout",
          "text": [
            "<class 'pandas.core.frame.DataFrame'>\n"
          ]
        }
      ]
    },
    {
      "cell_type": "code",
      "source": [
        "array = dataset.values\n",
        "array = dataset[colunas].values\n",
        "X = array[:,0:2]\n",
        "Y = array[:,1]\n",
        "validation_size = 0.20\n",
        "seed = 7\n",
        "X_train, X_validation, Y_train, Y_validation = model_selection.train_test_split(X,Y, test_size=validation_size, \n",
        "                                 random_state=seed)"
      ],
      "metadata": {
        "id": "znqNUtiw7no1"
      },
      "execution_count": null,
      "outputs": []
    },
    {
      "cell_type": "code",
      "source": [
        "print(type(array))"
      ],
      "metadata": {
        "colab": {
          "base_uri": "https://localhost:8080/"
        },
        "id": "3V__kTTR7pzl",
        "outputId": "99624bef-c8a6-44f5-ffd9-2ac04649a562"
      },
      "execution_count": null,
      "outputs": [
        {
          "output_type": "stream",
          "name": "stdout",
          "text": [
            "<class 'numpy.ndarray'>\n"
          ]
        }
      ]
    },
    {
      "cell_type": "code",
      "source": [
        "seed = 7\n",
        "scoring = 'accuracy'"
      ],
      "metadata": {
        "id": "FJM655Mp7sHl"
      },
      "execution_count": null,
      "outputs": []
    },
    {
      "cell_type": "code",
      "source": [
        "models = []\n",
        "models.append(('LR', LogisticRegression(solver='liblinear', \n",
        "      multi_class='ovr'))) \n",
        "models.append(('LDA', LinearDiscriminantAnalysis()))\n",
        "models.append(('KNN', KNeighborsClassifier()))\n",
        "models.append(('CART', DecisionTreeClassifier()))\n",
        "models.append(('SVM', SVC(gamma='auto')))"
      ],
      "metadata": {
        "id": "JgzR4jWV7uRl"
      },
      "execution_count": null,
      "outputs": []
    },
    {
      "cell_type": "code",
      "source": [
        "result = []\n",
        "names = []\n",
        "for name, model in models:\n",
        "  kfold = model_selection.KFold(n_splits=10, shuffle=True, random_state=seed)\n",
        "  cv_results = model_selection.cross_val_score(model, X_train, Y_train, cv=kfold, scoring=scoring)\n",
        "  result.append(cv_results)\n",
        "  names.append(name)\n",
        "  msg = \"%s: %f (%f)\" % (name, cv_results.mean(), cv_results.std())\n",
        "  print(msg)"
      ],
      "metadata": {
        "colab": {
          "base_uri": "https://localhost:8080/"
        },
        "id": "zFL-0Phk7wLu",
        "outputId": "5df6e3ca-0800-4c5b-8a33-2495c16d45c3"
      },
      "execution_count": null,
      "outputs": [
        {
          "output_type": "stream",
          "name": "stdout",
          "text": [
            "LR: 0.049389 (0.008804)\n",
            "LDA: 0.033938 (0.008643)\n",
            "KNN: 0.077239 (0.010517)\n",
            "CART: 0.346177 (0.022816)\n",
            "SVM: 0.086381 (0.007985)\n"
          ]
        }
      ]
    }
  ]
}